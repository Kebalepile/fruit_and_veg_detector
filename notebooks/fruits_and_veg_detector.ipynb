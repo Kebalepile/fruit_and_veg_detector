{
  "nbformat": 4,
  "nbformat_minor": 0,
  "metadata": {
    "colab": {
      "provenance": []
    },
    "kernelspec": {
      "name": "python3",
      "display_name": "Python 3"
    },
    "language_info": {
      "name": "python"
    }
  },
  "cells": [
    {
      "cell_type": "code",
      "execution_count": null,
      "metadata": {
        "id": "yISEQI8O4OBu"
      },
      "outputs": [],
      "source": [
        "# Creating a machine learning model to classify fruits and vegetables\n",
        "# from images using TensorFlow\n",
        "# Below are the steps to achieve this using Google Colab:\n",
        "\n",
        "# Setup Environment in Colab\n",
        "# Load and Preprocess Data\n",
        "# Build the Model\n",
        "# Train the Model\n",
        "# Evaluate the Model\n",
        "# Make Predictions with the Model"
      ]
    },
    {
      "cell_type": "code",
      "source": [
        "# 1. Setup Environment in Colab\n",
        "!pip install tensorflow"
      ],
      "metadata": {
        "colab": {
          "base_uri": "https://localhost:8080/"
        },
        "id": "hQXEDnAb8JZ0",
        "outputId": "e1326c45-4089-4400-f611-b1888d88062a"
      },
      "execution_count": 1,
      "outputs": [
        {
          "output_type": "stream",
          "name": "stdout",
          "text": [
            "Requirement already satisfied: tensorflow in /usr/local/lib/python3.10/dist-packages (2.15.0)\n",
            "Requirement already satisfied: absl-py>=1.0.0 in /usr/local/lib/python3.10/dist-packages (from tensorflow) (1.4.0)\n",
            "Requirement already satisfied: astunparse>=1.6.0 in /usr/local/lib/python3.10/dist-packages (from tensorflow) (1.6.3)\n",
            "Requirement already satisfied: flatbuffers>=23.5.26 in /usr/local/lib/python3.10/dist-packages (from tensorflow) (24.3.25)\n",
            "Requirement already satisfied: gast!=0.5.0,!=0.5.1,!=0.5.2,>=0.2.1 in /usr/local/lib/python3.10/dist-packages (from tensorflow) (0.5.4)\n",
            "Requirement already satisfied: google-pasta>=0.1.1 in /usr/local/lib/python3.10/dist-packages (from tensorflow) (0.2.0)\n",
            "Requirement already satisfied: h5py>=2.9.0 in /usr/local/lib/python3.10/dist-packages (from tensorflow) (3.9.0)\n",
            "Requirement already satisfied: libclang>=13.0.0 in /usr/local/lib/python3.10/dist-packages (from tensorflow) (18.1.1)\n",
            "Requirement already satisfied: ml-dtypes~=0.2.0 in /usr/local/lib/python3.10/dist-packages (from tensorflow) (0.2.0)\n",
            "Requirement already satisfied: numpy<2.0.0,>=1.23.5 in /usr/local/lib/python3.10/dist-packages (from tensorflow) (1.25.2)\n",
            "Requirement already satisfied: opt-einsum>=2.3.2 in /usr/local/lib/python3.10/dist-packages (from tensorflow) (3.3.0)\n",
            "Requirement already satisfied: packaging in /usr/local/lib/python3.10/dist-packages (from tensorflow) (24.0)\n",
            "Requirement already satisfied: protobuf!=4.21.0,!=4.21.1,!=4.21.2,!=4.21.3,!=4.21.4,!=4.21.5,<5.0.0dev,>=3.20.3 in /usr/local/lib/python3.10/dist-packages (from tensorflow) (3.20.3)\n",
            "Requirement already satisfied: setuptools in /usr/local/lib/python3.10/dist-packages (from tensorflow) (67.7.2)\n",
            "Requirement already satisfied: six>=1.12.0 in /usr/local/lib/python3.10/dist-packages (from tensorflow) (1.16.0)\n",
            "Requirement already satisfied: termcolor>=1.1.0 in /usr/local/lib/python3.10/dist-packages (from tensorflow) (2.4.0)\n",
            "Requirement already satisfied: typing-extensions>=3.6.6 in /usr/local/lib/python3.10/dist-packages (from tensorflow) (4.12.0)\n",
            "Requirement already satisfied: wrapt<1.15,>=1.11.0 in /usr/local/lib/python3.10/dist-packages (from tensorflow) (1.14.1)\n",
            "Requirement already satisfied: tensorflow-io-gcs-filesystem>=0.23.1 in /usr/local/lib/python3.10/dist-packages (from tensorflow) (0.37.0)\n",
            "Requirement already satisfied: grpcio<2.0,>=1.24.3 in /usr/local/lib/python3.10/dist-packages (from tensorflow) (1.64.0)\n",
            "Requirement already satisfied: tensorboard<2.16,>=2.15 in /usr/local/lib/python3.10/dist-packages (from tensorflow) (2.15.2)\n",
            "Requirement already satisfied: tensorflow-estimator<2.16,>=2.15.0 in /usr/local/lib/python3.10/dist-packages (from tensorflow) (2.15.0)\n",
            "Requirement already satisfied: keras<2.16,>=2.15.0 in /usr/local/lib/python3.10/dist-packages (from tensorflow) (2.15.0)\n",
            "Requirement already satisfied: wheel<1.0,>=0.23.0 in /usr/local/lib/python3.10/dist-packages (from astunparse>=1.6.0->tensorflow) (0.43.0)\n",
            "Requirement already satisfied: google-auth<3,>=1.6.3 in /usr/local/lib/python3.10/dist-packages (from tensorboard<2.16,>=2.15->tensorflow) (2.27.0)\n",
            "Requirement already satisfied: google-auth-oauthlib<2,>=0.5 in /usr/local/lib/python3.10/dist-packages (from tensorboard<2.16,>=2.15->tensorflow) (1.2.0)\n",
            "Requirement already satisfied: markdown>=2.6.8 in /usr/local/lib/python3.10/dist-packages (from tensorboard<2.16,>=2.15->tensorflow) (3.6)\n",
            "Requirement already satisfied: requests<3,>=2.21.0 in /usr/local/lib/python3.10/dist-packages (from tensorboard<2.16,>=2.15->tensorflow) (2.31.0)\n",
            "Requirement already satisfied: tensorboard-data-server<0.8.0,>=0.7.0 in /usr/local/lib/python3.10/dist-packages (from tensorboard<2.16,>=2.15->tensorflow) (0.7.2)\n",
            "Requirement already satisfied: werkzeug>=1.0.1 in /usr/local/lib/python3.10/dist-packages (from tensorboard<2.16,>=2.15->tensorflow) (3.0.3)\n",
            "Requirement already satisfied: cachetools<6.0,>=2.0.0 in /usr/local/lib/python3.10/dist-packages (from google-auth<3,>=1.6.3->tensorboard<2.16,>=2.15->tensorflow) (5.3.3)\n",
            "Requirement already satisfied: pyasn1-modules>=0.2.1 in /usr/local/lib/python3.10/dist-packages (from google-auth<3,>=1.6.3->tensorboard<2.16,>=2.15->tensorflow) (0.4.0)\n",
            "Requirement already satisfied: rsa<5,>=3.1.4 in /usr/local/lib/python3.10/dist-packages (from google-auth<3,>=1.6.3->tensorboard<2.16,>=2.15->tensorflow) (4.9)\n",
            "Requirement already satisfied: requests-oauthlib>=0.7.0 in /usr/local/lib/python3.10/dist-packages (from google-auth-oauthlib<2,>=0.5->tensorboard<2.16,>=2.15->tensorflow) (1.3.1)\n",
            "Requirement already satisfied: charset-normalizer<4,>=2 in /usr/local/lib/python3.10/dist-packages (from requests<3,>=2.21.0->tensorboard<2.16,>=2.15->tensorflow) (3.3.2)\n",
            "Requirement already satisfied: idna<4,>=2.5 in /usr/local/lib/python3.10/dist-packages (from requests<3,>=2.21.0->tensorboard<2.16,>=2.15->tensorflow) (3.7)\n",
            "Requirement already satisfied: urllib3<3,>=1.21.1 in /usr/local/lib/python3.10/dist-packages (from requests<3,>=2.21.0->tensorboard<2.16,>=2.15->tensorflow) (2.0.7)\n",
            "Requirement already satisfied: certifi>=2017.4.17 in /usr/local/lib/python3.10/dist-packages (from requests<3,>=2.21.0->tensorboard<2.16,>=2.15->tensorflow) (2024.2.2)\n",
            "Requirement already satisfied: MarkupSafe>=2.1.1 in /usr/local/lib/python3.10/dist-packages (from werkzeug>=1.0.1->tensorboard<2.16,>=2.15->tensorflow) (2.1.5)\n",
            "Requirement already satisfied: pyasn1<0.7.0,>=0.4.6 in /usr/local/lib/python3.10/dist-packages (from pyasn1-modules>=0.2.1->google-auth<3,>=1.6.3->tensorboard<2.16,>=2.15->tensorflow) (0.6.0)\n",
            "Requirement already satisfied: oauthlib>=3.0.0 in /usr/local/lib/python3.10/dist-packages (from requests-oauthlib>=0.7.0->google-auth-oauthlib<2,>=0.5->tensorboard<2.16,>=2.15->tensorflow) (3.2.2)\n"
          ]
        }
      ]
    },
    {
      "cell_type": "code",
      "source": [
        "# 2. Load and Preprocess Data\n",
        "\n",
        "# Mount Goodle drive\n",
        "from google.colab import drive\n",
        "drive.mount('/content/drive')\n",
        "\n",
        "# unzip the *.zip file\n",
        "import zipfile\n",
        "import os\n",
        "\n",
        "# Path to the zip file in Google Drive\n",
        "zip_path = '/content/drive/MyDrive/fruites _& _veg _mage_dataset.zip'  # Adjust the path as necessary\n",
        "\n",
        "# Unzip the file\n",
        "with zipfile.ZipFile(zip_path, 'r') as zip_ref:\n",
        "    zip_ref.extractall('/content/data')\n",
        "\n"
      ],
      "metadata": {
        "colab": {
          "base_uri": "https://localhost:8080/"
        },
        "id": "8dlYYaN78K-v",
        "outputId": "b7c06770-8129-4f2d-f924-927842359723"
      },
      "execution_count": 2,
      "outputs": [
        {
          "output_type": "stream",
          "name": "stdout",
          "text": [
            "Mounted at /content/drive\n"
          ]
        }
      ]
    },
    {
      "cell_type": "code",
      "source": [
        "from tensorflow.keras.preprocessing.image import ImageDataGenerator\n",
        "\n",
        "# Define paths\n",
        "train_dir = '/content/data/train'\n",
        "validation_dir = '/content/data/validation'\n",
        "test_dir = '/content/data/test'\n",
        "\n",
        "# Create ImageDataGenerator instances\n",
        "train_datagen = ImageDataGenerator(rescale=1.0/255.0)\n",
        "validation_datagen = ImageDataGenerator(rescale=1.0/255.0)\n",
        "test_datagen = ImageDataGenerator(rescale=1.0/255.0)\n",
        "\n",
        "# Load the data\n",
        "train_generator = train_datagen.flow_from_directory(\n",
        "    train_dir,\n",
        "    target_size=(150, 150),\n",
        "    batch_size=32,\n",
        "    class_mode='categorical')\n",
        "\n",
        "validation_generator = validation_datagen.flow_from_directory(\n",
        "    validation_dir,\n",
        "    target_size=(150, 150),\n",
        "    batch_size=32,\n",
        "    class_mode='categorical')\n",
        "\n",
        "test_generator = test_datagen.flow_from_directory(\n",
        "    test_dir,\n",
        "    target_size=(150, 150),\n",
        "    batch_size=32,\n",
        "    class_mode='categorical')\n"
      ],
      "metadata": {
        "colab": {
          "base_uri": "https://localhost:8080/"
        },
        "id": "S43SAbN7-ENL",
        "outputId": "490597bd-56af-4b14-c3a0-ad19a1ca23e8"
      },
      "execution_count": 3,
      "outputs": [
        {
          "output_type": "stream",
          "name": "stdout",
          "text": [
            "Found 3115 images belonging to 36 classes.\n",
            "Found 351 images belonging to 36 classes.\n",
            "Found 359 images belonging to 36 classes.\n"
          ]
        }
      ]
    },
    {
      "cell_type": "code",
      "source": [
        "# Step 4: Build the Model\n",
        "# Create a CNN model using TensorFlow/Keras.\n",
        "\n",
        "import tensorflow as tf\n",
        "from tensorflow.keras.models import Sequential\n",
        "from tensorflow.keras.layers import Conv2D, MaxPooling2D, Flatten, Dense, Dropout\n",
        "\n",
        "model = Sequential([\n",
        "    Conv2D(32, (3, 3), activation='relu', input_shape=(150, 150, 3)),\n",
        "    MaxPooling2D((2, 2)),\n",
        "    Conv2D(64, (3, 3), activation='relu'),\n",
        "    MaxPooling2D((2, 2)),\n",
        "    Conv2D(128, (3, 3), activation='relu'),\n",
        "    MaxPooling2D((2, 2)),\n",
        "    Flatten(),\n",
        "    Dense(512, activation='relu'),\n",
        "    Dropout(0.5),\n",
        "    Dense(len(train_generator.class_indices), activation='softmax')\n",
        "])\n",
        "\n",
        "model.compile(optimizer='adam',\n",
        "              loss='categorical_crossentropy',\n",
        "              metrics=['accuracy'])\n",
        "\n",
        "model.summary()\n",
        "\n"
      ],
      "metadata": {
        "colab": {
          "base_uri": "https://localhost:8080/"
        },
        "id": "_tchrcEw-__t",
        "outputId": "dedc40ab-223a-4d78-8a9c-64547c5916c5"
      },
      "execution_count": 4,
      "outputs": [
        {
          "output_type": "stream",
          "name": "stdout",
          "text": [
            "Model: \"sequential\"\n",
            "_________________________________________________________________\n",
            " Layer (type)                Output Shape              Param #   \n",
            "=================================================================\n",
            " conv2d (Conv2D)             (None, 148, 148, 32)      896       \n",
            "                                                                 \n",
            " max_pooling2d (MaxPooling2  (None, 74, 74, 32)        0         \n",
            " D)                                                              \n",
            "                                                                 \n",
            " conv2d_1 (Conv2D)           (None, 72, 72, 64)        18496     \n",
            "                                                                 \n",
            " max_pooling2d_1 (MaxPoolin  (None, 36, 36, 64)        0         \n",
            " g2D)                                                            \n",
            "                                                                 \n",
            " conv2d_2 (Conv2D)           (None, 34, 34, 128)       73856     \n",
            "                                                                 \n",
            " max_pooling2d_2 (MaxPoolin  (None, 17, 17, 128)       0         \n",
            " g2D)                                                            \n",
            "                                                                 \n",
            " flatten (Flatten)           (None, 36992)             0         \n",
            "                                                                 \n",
            " dense (Dense)               (None, 512)               18940416  \n",
            "                                                                 \n",
            " dropout (Dropout)           (None, 512)               0         \n",
            "                                                                 \n",
            " dense_1 (Dense)             (None, 36)                18468     \n",
            "                                                                 \n",
            "=================================================================\n",
            "Total params: 19052132 (72.68 MB)\n",
            "Trainable params: 19052132 (72.68 MB)\n",
            "Non-trainable params: 0 (0.00 Byte)\n",
            "_________________________________________________________________\n"
          ]
        }
      ]
    },
    {
      "cell_type": "code",
      "source": [
        "# Step 5: Train the Model\n",
        "# Train the model using the training and validation data.\n",
        "\n",
        "history = model.fit(\n",
        "    train_generator,\n",
        "    steps_per_epoch=train_generator.samples // train_generator.batch_size,\n",
        "    epochs=20,\n",
        "    validation_data=validation_generator,\n",
        "    validation_steps=validation_generator.samples // validation_generator.batch_size)\n",
        "\n"
      ],
      "metadata": {
        "colab": {
          "base_uri": "https://localhost:8080/"
        },
        "id": "3Ky8uay8_dd6",
        "outputId": "2600ae62-ab74-4f05-8914-5db8a094bdb4"
      },
      "execution_count": 5,
      "outputs": [
        {
          "output_type": "stream",
          "name": "stdout",
          "text": [
            "Epoch 1/20\n"
          ]
        },
        {
          "output_type": "stream",
          "name": "stderr",
          "text": [
            "/usr/local/lib/python3.10/dist-packages/PIL/Image.py:996: UserWarning: Palette images with Transparency expressed in bytes should be converted to RGBA images\n",
            "  warnings.warn(\n"
          ]
        },
        {
          "output_type": "stream",
          "name": "stdout",
          "text": [
            "97/97 [==============================] - 247s 3s/step - loss: 3.3957 - accuracy: 0.0636 - val_loss: 2.9005 - val_accuracy: 0.1969\n",
            "Epoch 2/20\n",
            "97/97 [==============================] - 244s 3s/step - loss: 2.8908 - accuracy: 0.1719 - val_loss: 2.1256 - val_accuracy: 0.4375\n",
            "Epoch 3/20\n",
            "97/97 [==============================] - 245s 3s/step - loss: 2.3919 - accuracy: 0.2819 - val_loss: 1.5346 - val_accuracy: 0.5938\n",
            "Epoch 4/20\n",
            "97/97 [==============================] - 246s 3s/step - loss: 1.9358 - accuracy: 0.4217 - val_loss: 0.8961 - val_accuracy: 0.8125\n",
            "Epoch 5/20\n",
            "97/97 [==============================] - 236s 2s/step - loss: 1.3886 - accuracy: 0.5829 - val_loss: 0.4584 - val_accuracy: 0.9000\n",
            "Epoch 6/20\n",
            "97/97 [==============================] - 242s 2s/step - loss: 0.8735 - accuracy: 0.7369 - val_loss: 0.3756 - val_accuracy: 0.9094\n",
            "Epoch 7/20\n",
            "97/97 [==============================] - 235s 2s/step - loss: 0.6048 - accuracy: 0.8197 - val_loss: 0.2782 - val_accuracy: 0.9469\n",
            "Epoch 8/20\n",
            "97/97 [==============================] - 238s 2s/step - loss: 0.3796 - accuracy: 0.8852 - val_loss: 0.2410 - val_accuracy: 0.9594\n",
            "Epoch 9/20\n",
            "97/97 [==============================] - 246s 3s/step - loss: 0.3042 - accuracy: 0.9144 - val_loss: 0.1800 - val_accuracy: 0.9625\n",
            "Epoch 10/20\n",
            "97/97 [==============================] - 236s 2s/step - loss: 0.2314 - accuracy: 0.9293 - val_loss: 0.2068 - val_accuracy: 0.9625\n",
            "Epoch 11/20\n",
            "97/97 [==============================] - 243s 3s/step - loss: 0.1573 - accuracy: 0.9591 - val_loss: 0.2265 - val_accuracy: 0.9531\n",
            "Epoch 12/20\n",
            "97/97 [==============================] - 241s 2s/step - loss: 0.1783 - accuracy: 0.9536 - val_loss: 0.2782 - val_accuracy: 0.9563\n",
            "Epoch 13/20\n",
            "97/97 [==============================] - 242s 2s/step - loss: 0.1730 - accuracy: 0.9588 - val_loss: 0.1859 - val_accuracy: 0.9688\n",
            "Epoch 14/20\n",
            "97/97 [==============================] - 252s 3s/step - loss: 0.1426 - accuracy: 0.9620 - val_loss: 0.2136 - val_accuracy: 0.9594\n",
            "Epoch 15/20\n",
            "97/97 [==============================] - 239s 2s/step - loss: 0.1326 - accuracy: 0.9672 - val_loss: 0.2139 - val_accuracy: 0.9594\n",
            "Epoch 16/20\n",
            "97/97 [==============================] - 236s 2s/step - loss: 0.1039 - accuracy: 0.9718 - val_loss: 0.2420 - val_accuracy: 0.9625\n",
            "Epoch 17/20\n",
            "97/97 [==============================] - 234s 2s/step - loss: 0.0924 - accuracy: 0.9760 - val_loss: 0.2039 - val_accuracy: 0.9625\n",
            "Epoch 18/20\n",
            "97/97 [==============================] - 234s 2s/step - loss: 0.0922 - accuracy: 0.9757 - val_loss: 0.2105 - val_accuracy: 0.9688\n",
            "Epoch 19/20\n",
            "97/97 [==============================] - 243s 3s/step - loss: 0.0905 - accuracy: 0.9773 - val_loss: 0.4398 - val_accuracy: 0.9656\n",
            "Epoch 20/20\n",
            "97/97 [==============================] - 235s 2s/step - loss: 0.1056 - accuracy: 0.9724 - val_loss: 0.2590 - val_accuracy: 0.9594\n"
          ]
        }
      ]
    },
    {
      "cell_type": "code",
      "source": [
        "# Step 6: Evaluate the Model\n",
        "# Evaluate the model's performance on the test data.\n",
        "test_loss, test_acc = model.evaluate(test_generator, steps=test_generator.samples // test_generator.batch_size)\n",
        "print('Test accuracy:', test_acc)\n",
        "\n"
      ],
      "metadata": {
        "colab": {
          "base_uri": "https://localhost:8080/"
        },
        "id": "ItFse1-C_1T5",
        "outputId": "4aa6d766-2205-41a2-bc6c-dcbf29e74a97"
      },
      "execution_count": 6,
      "outputs": [
        {
          "output_type": "stream",
          "name": "stdout",
          "text": [
            "11/11 [==============================] - 18s 2s/step - loss: 0.2677 - accuracy: 0.9574\n",
            "Test accuracy: 0.9573863744735718\n"
          ]
        }
      ]
    },
    {
      "cell_type": "code",
      "source": [
        "file_name = 'fruit_veg_classifier.h5'\n",
        "\n",
        "# # Save the Model\n",
        "# model.save(file_name)\n",
        "\n",
        "# # Download the Model\n",
        "# from google.colab import files\n",
        "# files.download(file_name)\n",
        "# Step 1: Save the Model in Native Keras Format\n",
        "model.save('fruit_veg_classifier.keras')\n",
        "\n",
        "# Step 2: Download the Model\n",
        "from google.colab import files\n",
        "files.download('fruit_veg_classifier.keras')\n",
        "\n"
      ],
      "metadata": {
        "colab": {
          "base_uri": "https://localhost:8080/",
          "height": 17
        },
        "id": "wFI0PupwBPn-",
        "outputId": "fcefb3cf-ebfb-402d-e3b4-9831d1aea4ba"
      },
      "execution_count": 8,
      "outputs": [
        {
          "output_type": "display_data",
          "data": {
            "text/plain": [
              "<IPython.core.display.Javascript object>"
            ],
            "application/javascript": [
              "\n",
              "    async function download(id, filename, size) {\n",
              "      if (!google.colab.kernel.accessAllowed) {\n",
              "        return;\n",
              "      }\n",
              "      const div = document.createElement('div');\n",
              "      const label = document.createElement('label');\n",
              "      label.textContent = `Downloading \"${filename}\": `;\n",
              "      div.appendChild(label);\n",
              "      const progress = document.createElement('progress');\n",
              "      progress.max = size;\n",
              "      div.appendChild(progress);\n",
              "      document.body.appendChild(div);\n",
              "\n",
              "      const buffers = [];\n",
              "      let downloaded = 0;\n",
              "\n",
              "      const channel = await google.colab.kernel.comms.open(id);\n",
              "      // Send a message to notify the kernel that we're ready.\n",
              "      channel.send({})\n",
              "\n",
              "      for await (const message of channel.messages) {\n",
              "        // Send a message to notify the kernel that we're ready.\n",
              "        channel.send({})\n",
              "        if (message.buffers) {\n",
              "          for (const buffer of message.buffers) {\n",
              "            buffers.push(buffer);\n",
              "            downloaded += buffer.byteLength;\n",
              "            progress.value = downloaded;\n",
              "          }\n",
              "        }\n",
              "      }\n",
              "      const blob = new Blob(buffers, {type: 'application/binary'});\n",
              "      const a = document.createElement('a');\n",
              "      a.href = window.URL.createObjectURL(blob);\n",
              "      a.download = filename;\n",
              "      div.appendChild(a);\n",
              "      a.click();\n",
              "      div.remove();\n",
              "    }\n",
              "  "
            ]
          },
          "metadata": {}
        },
        {
          "output_type": "display_data",
          "data": {
            "text/plain": [
              "<IPython.core.display.Javascript object>"
            ],
            "application/javascript": [
              "download(\"download_8ebf5a41-b107-4088-bcdf-e465a6026a55\", \"fruit_veg_classifier.keras\", 228671957)"
            ]
          },
          "metadata": {}
        }
      ]
    },
    {
      "cell_type": "code",
      "source": [
        "# Step 7: Make Predictions with the Model\n",
        "# Use the trained model to make predictions on new images.\n",
        "\n",
        "import tensorflow as tf\n",
        "import cv2\n",
        "import numpy as np\n",
        "from tensorflow.keras.preprocessing import image\n",
        "\n",
        "# Load the trained model\n",
        "model = tf.keras.models.load_model('fruit_veg_classifier.keras')\n",
        "\n",
        "# Function to predict the class of an image\n",
        "def predict_image(img):\n",
        "    img_array = image.img_to_array(img)\n",
        "    img_array = np.expand_dims(img_array, axis=0)\n",
        "    img_array /= 255.0\n",
        "\n",
        "    prediction = model.predict(img_array)\n",
        "    predicted_class = np.argmax(prediction[0])\n",
        "    confidence = np.max(prediction[0])\n",
        "\n",
        "    class_labels = list(train_generator.class_indices.keys())\n",
        "    if confidence < 0.5:  # Adjust confidence threshold as needed\n",
        "        return \"unknown food\"\n",
        "    else:\n",
        "        return class_labels[predicted_class]\n",
        "\n",
        "# Function to process video stream and make predictions on each frame\n",
        "def predict_video_stream():\n",
        "    cap = cv2.VideoCapture(0)  # Use 0 for webcam, or replace with video file path\n",
        "\n",
        "    while cap.isOpened():\n",
        "        ret, frame = cap.read()\n",
        "        if not ret:\n",
        "            break\n",
        "\n",
        "        # Resize frame to match the input size of the model\n",
        "        frame_resized = cv2.resize(frame, (150, 150))\n",
        "        # Convert to PIL Image format\n",
        "        img = image.array_to_img(frame_resized)\n",
        "\n",
        "        # Predict the class of the frame\n",
        "        predicted_class = predict_image(img)\n",
        "        print(f'The predicted class is: {predicted_class}')\n",
        "\n",
        "        # Display the frame with the prediction\n",
        "        cv2.putText(frame, predicted_class, (10, 30), cv2.FONT_HERSHEY_SIMPLEX, 1, (0, 255, 0), 2)\n",
        "        cv2.imshow('Frame', frame)\n",
        "\n",
        "        # Exit if 'q' is pressed\n",
        "        if cv2.waitKey(1) & 0xFF == ord('q'):\n",
        "            break\n",
        "\n",
        "    cap.release()\n",
        "    cv2.destroyAllWindows()\n",
        "\n",
        "# Run the prediction on video stream\n",
        "predict_video_stream()\n",
        "\n",
        "\n",
        "# Function to process video and make predictions on each frame\n",
        "def predict_video(video_path):\n",
        "    cap = cv2.VideoCapture(video_path)\n",
        "    while cap.isOpened():\n",
        "        ret, frame = cap.read()\n",
        "        if not ret:\n",
        "            break\n",
        "\n",
        "        # Resize frame to match the input size of the model\n",
        "        frame_resized = cv2.resize(frame, (150, 150))\n",
        "        # Convert to PIL Image format\n",
        "        img = image.array_to_img(frame_resized)\n",
        "\n",
        "        # Predict the class of the frame\n",
        "        predicted_class = predict_image(img)\n",
        "        print(f'The predicted class is: {predicted_class}')\n",
        "\n",
        "        # Display the frame with the prediction (optional)\n",
        "        cv2.putText(frame, predicted_class, (10, 30), cv2.FONT_HERSHEY_SIMPLEX, 1, (0, 255, 0), 2)\n",
        "        cv2.imshow('Frame', frame)\n",
        "\n",
        "        # Exit if 'q' is pressed\n",
        "        if cv2.waitKey(1) & 0xFF == ord('q'):\n",
        "            break\n",
        "\n",
        "    cap.release()\n",
        "    cv2.destroyAllWindows()\n",
        "\n",
        "# Example usage\n",
        "video_path = '/content/data/test_video.mp4'  # Adjust the path as necessary\n",
        "predict_video(video_path)"
      ],
      "metadata": {
        "id": "JzAUcgo2ABKz"
      },
      "execution_count": null,
      "outputs": []
    },
    {
      "cell_type": "code",
      "source": [
        "# Final Notes\n",
        "# Ensure your directory structure in the dataset matches the expected format by ImageDataGenerator.\n",
        "# Adjust the number of epochs and other hyperparameters based on your dataset size and performance.\n",
        "# If using a GPU, make sure to enable it in Colab by going to Runtime > Change runtime type > Hardware accelerator > GPU.\n",
        "# This setup will guide you through creating and training a fruit and vegetable classification model using TensorFlow in Google Colab, leveraging data stored in Google Drive."
      ],
      "metadata": {
        "id": "mLo0v8fQAP75"
      },
      "execution_count": null,
      "outputs": []
    }
  ]
}